{
 "cells": [
  {
   "cell_type": "markdown",
   "metadata": {
    "tags": []
   },
   "source": []
  },
  {
   "cell_type": "code",
   "execution_count": 1,
   "metadata": {
    "cell_id": "deea780a-2c00-46f8-8166-b4dfb785f541",
    "deepnote_cell_height": 557,
    "deepnote_cell_type": "code",
    "deepnote_table_loading": false,
    "deepnote_table_state": {
     "filters": [],
     "pageIndex": 0,
     "pageSize": 10,
     "sortBy": [
      {
       "id": "DayOfWeek",
       "type": "asc"
      }
     ]
    },
    "deepnote_to_be_reexecuted": false,
    "execution_millis": 2621,
    "execution_start": 1647552167106,
    "source_hash": "de742960",
    "tags": []
   },
   "outputs": [
    {
     "name": "stderr",
     "output_type": "stream",
     "text": [
      "C:\\Users\\Lucas\\anaconda3\\lib\\site-packages\\IPython\\core\\interactiveshell.py:3165: DtypeWarning: Columns (7) have mixed types.Specify dtype option on import or set low_memory=False.\n",
      "  has_raised = await self.run_ast_nodes(code_ast.body, cell_name,\n"
     ]
    },
    {
     "name": "stdout",
     "output_type": "stream",
     "text": [
      "(1017209, 9)\n",
      "(1115, 10)\n",
      "(1017209, 18)\n"
     ]
    }
   ],
   "source": [
    "import missingno as msno\n",
    "import pandas as pd\n",
    "import numpy as np\n",
    "import inflection\n",
    "import math \n",
    "import matplotlib.pyplot as plt\n",
    "import plotly.express as px\n",
    "import matplotlib.colors as mcolors\n",
    "import seaborn as sns\n",
    "\n",
    "%matplotlib inline\n",
    "\n",
    "\n",
    "#Leitura dos dados\n",
    "\n",
    "sales = pd.read_csv('train.csv')\n",
    "print(sales.shape)\n",
    "stores=pd.read_csv(\"store.csv\")\n",
    "print(stores.shape)\n",
    "sales=sales.merge(stores, how=\"inner\", on=\"Store\")\n",
    "print(sales.shape)"
   ]
  },
  {
   "cell_type": "code",
   "execution_count": 2,
   "metadata": {
    "cell_id": "864967ee-7f95-4479-968d-c0aeaf6371d6",
    "deepnote_cell_height": 516,
    "deepnote_cell_type": "code",
    "deepnote_to_be_reexecuted": false,
    "execution_millis": 78,
    "execution_start": 1647552169729,
    "source_hash": "a6b0eecb",
    "tags": []
   },
   "outputs": [
    {
     "data": {
      "text/html": [
       "<div>\n",
       "<style scoped>\n",
       "    .dataframe tbody tr th:only-of-type {\n",
       "        vertical-align: middle;\n",
       "    }\n",
       "\n",
       "    .dataframe tbody tr th {\n",
       "        vertical-align: top;\n",
       "    }\n",
       "\n",
       "    .dataframe thead th {\n",
       "        text-align: right;\n",
       "    }\n",
       "</style>\n",
       "<table border=\"1\" class=\"dataframe\">\n",
       "  <thead>\n",
       "    <tr style=\"text-align: right;\">\n",
       "      <th></th>\n",
       "      <th>store</th>\n",
       "      <th>day_of_week</th>\n",
       "      <th>date</th>\n",
       "      <th>sales</th>\n",
       "      <th>customers</th>\n",
       "      <th>open</th>\n",
       "      <th>promo</th>\n",
       "      <th>state_holiday</th>\n",
       "      <th>school_holiday</th>\n",
       "      <th>store_type</th>\n",
       "      <th>assortment</th>\n",
       "      <th>competition_distance</th>\n",
       "      <th>competition_open_since_month</th>\n",
       "      <th>competition_open_since_year</th>\n",
       "      <th>promo2</th>\n",
       "      <th>promo2_since_week</th>\n",
       "      <th>promo2_since_year</th>\n",
       "      <th>promo_interval</th>\n",
       "    </tr>\n",
       "  </thead>\n",
       "  <tbody>\n",
       "    <tr>\n",
       "      <th>0</th>\n",
       "      <td>1</td>\n",
       "      <td>5</td>\n",
       "      <td>2015-07-31</td>\n",
       "      <td>5263</td>\n",
       "      <td>555</td>\n",
       "      <td>1</td>\n",
       "      <td>1</td>\n",
       "      <td>0</td>\n",
       "      <td>1</td>\n",
       "      <td>c</td>\n",
       "      <td>a</td>\n",
       "      <td>1270.0</td>\n",
       "      <td>9.0</td>\n",
       "      <td>2008.0</td>\n",
       "      <td>0</td>\n",
       "      <td>NaN</td>\n",
       "      <td>NaN</td>\n",
       "      <td>NaN</td>\n",
       "    </tr>\n",
       "    <tr>\n",
       "      <th>1</th>\n",
       "      <td>1</td>\n",
       "      <td>4</td>\n",
       "      <td>2015-07-30</td>\n",
       "      <td>5020</td>\n",
       "      <td>546</td>\n",
       "      <td>1</td>\n",
       "      <td>1</td>\n",
       "      <td>0</td>\n",
       "      <td>1</td>\n",
       "      <td>c</td>\n",
       "      <td>a</td>\n",
       "      <td>1270.0</td>\n",
       "      <td>9.0</td>\n",
       "      <td>2008.0</td>\n",
       "      <td>0</td>\n",
       "      <td>NaN</td>\n",
       "      <td>NaN</td>\n",
       "      <td>NaN</td>\n",
       "    </tr>\n",
       "    <tr>\n",
       "      <th>2</th>\n",
       "      <td>1</td>\n",
       "      <td>3</td>\n",
       "      <td>2015-07-29</td>\n",
       "      <td>4782</td>\n",
       "      <td>523</td>\n",
       "      <td>1</td>\n",
       "      <td>1</td>\n",
       "      <td>0</td>\n",
       "      <td>1</td>\n",
       "      <td>c</td>\n",
       "      <td>a</td>\n",
       "      <td>1270.0</td>\n",
       "      <td>9.0</td>\n",
       "      <td>2008.0</td>\n",
       "      <td>0</td>\n",
       "      <td>NaN</td>\n",
       "      <td>NaN</td>\n",
       "      <td>NaN</td>\n",
       "    </tr>\n",
       "    <tr>\n",
       "      <th>3</th>\n",
       "      <td>1</td>\n",
       "      <td>2</td>\n",
       "      <td>2015-07-28</td>\n",
       "      <td>5011</td>\n",
       "      <td>560</td>\n",
       "      <td>1</td>\n",
       "      <td>1</td>\n",
       "      <td>0</td>\n",
       "      <td>1</td>\n",
       "      <td>c</td>\n",
       "      <td>a</td>\n",
       "      <td>1270.0</td>\n",
       "      <td>9.0</td>\n",
       "      <td>2008.0</td>\n",
       "      <td>0</td>\n",
       "      <td>NaN</td>\n",
       "      <td>NaN</td>\n",
       "      <td>NaN</td>\n",
       "    </tr>\n",
       "    <tr>\n",
       "      <th>4</th>\n",
       "      <td>1</td>\n",
       "      <td>1</td>\n",
       "      <td>2015-07-27</td>\n",
       "      <td>6102</td>\n",
       "      <td>612</td>\n",
       "      <td>1</td>\n",
       "      <td>1</td>\n",
       "      <td>0</td>\n",
       "      <td>1</td>\n",
       "      <td>c</td>\n",
       "      <td>a</td>\n",
       "      <td>1270.0</td>\n",
       "      <td>9.0</td>\n",
       "      <td>2008.0</td>\n",
       "      <td>0</td>\n",
       "      <td>NaN</td>\n",
       "      <td>NaN</td>\n",
       "      <td>NaN</td>\n",
       "    </tr>\n",
       "  </tbody>\n",
       "</table>\n",
       "</div>"
      ],
      "text/plain": [
       "   store  day_of_week        date  sales  customers  open  promo  \\\n",
       "0      1            5  2015-07-31   5263        555     1      1   \n",
       "1      1            4  2015-07-30   5020        546     1      1   \n",
       "2      1            3  2015-07-29   4782        523     1      1   \n",
       "3      1            2  2015-07-28   5011        560     1      1   \n",
       "4      1            1  2015-07-27   6102        612     1      1   \n",
       "\n",
       "  state_holiday  school_holiday store_type assortment  competition_distance  \\\n",
       "0             0               1          c          a                1270.0   \n",
       "1             0               1          c          a                1270.0   \n",
       "2             0               1          c          a                1270.0   \n",
       "3             0               1          c          a                1270.0   \n",
       "4             0               1          c          a                1270.0   \n",
       "\n",
       "   competition_open_since_month  competition_open_since_year  promo2  \\\n",
       "0                           9.0                       2008.0       0   \n",
       "1                           9.0                       2008.0       0   \n",
       "2                           9.0                       2008.0       0   \n",
       "3                           9.0                       2008.0       0   \n",
       "4                           9.0                       2008.0       0   \n",
       "\n",
       "   promo2_since_week  promo2_since_year promo_interval  \n",
       "0                NaN                NaN            NaN  \n",
       "1                NaN                NaN            NaN  \n",
       "2                NaN                NaN            NaN  \n",
       "3                NaN                NaN            NaN  \n",
       "4                NaN                NaN            NaN  "
      ]
     },
     "execution_count": 2,
     "metadata": {},
     "output_type": "execute_result"
    }
   ],
   "source": [
    "#Formatação dos nomes das colunas\n",
    "\n",
    "oldCols=list(sales.columns)\n",
    "snakecase=lambda x: inflection.underscore(x)\n",
    "newCols=list(map(snakecase, oldCols))\n",
    "#print(newCols)\n",
    "\n",
    "sales.columns = newCols\n",
    "sales.head()"
   ]
  },
  {
   "cell_type": "code",
   "execution_count": 3,
   "metadata": {
    "cell_id": "882fcd6c-f156-4db9-80b5-b3a371c6c6ec",
    "deepnote_cell_height": 597,
    "deepnote_cell_type": "code",
    "deepnote_to_be_reexecuted": false,
    "execution_millis": 216,
    "execution_start": 1647552169797,
    "source_hash": "ab25acfb",
    "tags": []
   },
   "outputs": [
    {
     "name": "stdout",
     "output_type": "stream",
     "text": [
      "<class 'pandas.core.frame.DataFrame'>\n",
      "Int64Index: 1017209 entries, 0 to 1017208\n",
      "Data columns (total 18 columns):\n",
      " #   Column                        Non-Null Count    Dtype  \n",
      "---  ------                        --------------    -----  \n",
      " 0   store                         1017209 non-null  int64  \n",
      " 1   day_of_week                   1017209 non-null  int64  \n",
      " 2   date                          1017209 non-null  object \n",
      " 3   sales                         1017209 non-null  int64  \n",
      " 4   customers                     1017209 non-null  int64  \n",
      " 5   open                          1017209 non-null  int64  \n",
      " 6   promo                         1017209 non-null  int64  \n",
      " 7   state_holiday                 1017209 non-null  object \n",
      " 8   school_holiday                1017209 non-null  int64  \n",
      " 9   store_type                    1017209 non-null  object \n",
      " 10  assortment                    1017209 non-null  object \n",
      " 11  competition_distance          1014567 non-null  float64\n",
      " 12  competition_open_since_month  693861 non-null   float64\n",
      " 13  competition_open_since_year   693861 non-null   float64\n",
      " 14  promo2                        1017209 non-null  int64  \n",
      " 15  promo2_since_week             509178 non-null   float64\n",
      " 16  promo2_since_year             509178 non-null   float64\n",
      " 17  promo_interval                509178 non-null   object \n",
      "dtypes: float64(5), int64(8), object(5)\n",
      "memory usage: 147.5+ MB\n"
     ]
    }
   ],
   "source": [
    "sales.info()"
   ]
  },
  {
   "cell_type": "code",
   "execution_count": 4,
   "metadata": {
    "cell_id": "c719cf53-0fa0-4b98-8691-7947a3c52d47",
    "deepnote_cell_height": 563,
    "deepnote_cell_type": "code",
    "deepnote_table_loading": false,
    "deepnote_table_state": {
     "filters": [],
     "pageIndex": 0,
     "pageSize": 10,
     "sortBy": [
      {
       "id": "customers",
       "type": "desc"
      }
     ]
    },
    "deepnote_to_be_reexecuted": false,
    "execution_millis": 591,
    "execution_start": 1647552170014,
    "source_hash": "3a93b017",
    "tags": []
   },
   "outputs": [
    {
     "data": {
      "text/html": [
       "<div>\n",
       "<style scoped>\n",
       "    .dataframe tbody tr th:only-of-type {\n",
       "        vertical-align: middle;\n",
       "    }\n",
       "\n",
       "    .dataframe tbody tr th {\n",
       "        vertical-align: top;\n",
       "    }\n",
       "\n",
       "    .dataframe thead th {\n",
       "        text-align: right;\n",
       "    }\n",
       "</style>\n",
       "<table border=\"1\" class=\"dataframe\">\n",
       "  <thead>\n",
       "    <tr style=\"text-align: right;\">\n",
       "      <th></th>\n",
       "      <th>store</th>\n",
       "      <th>day_of_week</th>\n",
       "      <th>sales</th>\n",
       "      <th>customers</th>\n",
       "      <th>open</th>\n",
       "      <th>promo</th>\n",
       "      <th>school_holiday</th>\n",
       "      <th>competition_distance</th>\n",
       "      <th>competition_open_since_month</th>\n",
       "      <th>competition_open_since_year</th>\n",
       "      <th>promo2</th>\n",
       "      <th>promo2_since_week</th>\n",
       "      <th>promo2_since_year</th>\n",
       "    </tr>\n",
       "  </thead>\n",
       "  <tbody>\n",
       "    <tr>\n",
       "      <th>count</th>\n",
       "      <td>1.017209e+06</td>\n",
       "      <td>1.017209e+06</td>\n",
       "      <td>1.017209e+06</td>\n",
       "      <td>1.017209e+06</td>\n",
       "      <td>1.017209e+06</td>\n",
       "      <td>1.017209e+06</td>\n",
       "      <td>1.017209e+06</td>\n",
       "      <td>1.014567e+06</td>\n",
       "      <td>693861.000000</td>\n",
       "      <td>693861.000000</td>\n",
       "      <td>1.017209e+06</td>\n",
       "      <td>509178.000000</td>\n",
       "      <td>509178.000000</td>\n",
       "    </tr>\n",
       "    <tr>\n",
       "      <th>mean</th>\n",
       "      <td>5.584297e+02</td>\n",
       "      <td>3.998341e+00</td>\n",
       "      <td>5.773819e+03</td>\n",
       "      <td>6.331459e+02</td>\n",
       "      <td>8.301067e-01</td>\n",
       "      <td>3.815145e-01</td>\n",
       "      <td>1.786467e-01</td>\n",
       "      <td>5.430086e+03</td>\n",
       "      <td>7.222866</td>\n",
       "      <td>2008.690228</td>\n",
       "      <td>5.005638e-01</td>\n",
       "      <td>23.269093</td>\n",
       "      <td>2011.752774</td>\n",
       "    </tr>\n",
       "    <tr>\n",
       "      <th>std</th>\n",
       "      <td>3.219087e+02</td>\n",
       "      <td>1.997391e+00</td>\n",
       "      <td>3.849926e+03</td>\n",
       "      <td>4.644117e+02</td>\n",
       "      <td>3.755392e-01</td>\n",
       "      <td>4.857586e-01</td>\n",
       "      <td>3.830564e-01</td>\n",
       "      <td>7.715324e+03</td>\n",
       "      <td>3.211832</td>\n",
       "      <td>5.992644</td>\n",
       "      <td>4.999999e-01</td>\n",
       "      <td>14.095973</td>\n",
       "      <td>1.662870</td>\n",
       "    </tr>\n",
       "    <tr>\n",
       "      <th>min</th>\n",
       "      <td>1.000000e+00</td>\n",
       "      <td>1.000000e+00</td>\n",
       "      <td>0.000000e+00</td>\n",
       "      <td>0.000000e+00</td>\n",
       "      <td>0.000000e+00</td>\n",
       "      <td>0.000000e+00</td>\n",
       "      <td>0.000000e+00</td>\n",
       "      <td>2.000000e+01</td>\n",
       "      <td>1.000000</td>\n",
       "      <td>1900.000000</td>\n",
       "      <td>0.000000e+00</td>\n",
       "      <td>1.000000</td>\n",
       "      <td>2009.000000</td>\n",
       "    </tr>\n",
       "    <tr>\n",
       "      <th>25%</th>\n",
       "      <td>2.800000e+02</td>\n",
       "      <td>2.000000e+00</td>\n",
       "      <td>3.727000e+03</td>\n",
       "      <td>4.050000e+02</td>\n",
       "      <td>1.000000e+00</td>\n",
       "      <td>0.000000e+00</td>\n",
       "      <td>0.000000e+00</td>\n",
       "      <td>7.100000e+02</td>\n",
       "      <td>4.000000</td>\n",
       "      <td>2006.000000</td>\n",
       "      <td>0.000000e+00</td>\n",
       "      <td>13.000000</td>\n",
       "      <td>2011.000000</td>\n",
       "    </tr>\n",
       "    <tr>\n",
       "      <th>50%</th>\n",
       "      <td>5.580000e+02</td>\n",
       "      <td>4.000000e+00</td>\n",
       "      <td>5.744000e+03</td>\n",
       "      <td>6.090000e+02</td>\n",
       "      <td>1.000000e+00</td>\n",
       "      <td>0.000000e+00</td>\n",
       "      <td>0.000000e+00</td>\n",
       "      <td>2.330000e+03</td>\n",
       "      <td>8.000000</td>\n",
       "      <td>2010.000000</td>\n",
       "      <td>1.000000e+00</td>\n",
       "      <td>22.000000</td>\n",
       "      <td>2012.000000</td>\n",
       "    </tr>\n",
       "    <tr>\n",
       "      <th>75%</th>\n",
       "      <td>8.380000e+02</td>\n",
       "      <td>6.000000e+00</td>\n",
       "      <td>7.856000e+03</td>\n",
       "      <td>8.370000e+02</td>\n",
       "      <td>1.000000e+00</td>\n",
       "      <td>1.000000e+00</td>\n",
       "      <td>0.000000e+00</td>\n",
       "      <td>6.890000e+03</td>\n",
       "      <td>10.000000</td>\n",
       "      <td>2013.000000</td>\n",
       "      <td>1.000000e+00</td>\n",
       "      <td>37.000000</td>\n",
       "      <td>2013.000000</td>\n",
       "    </tr>\n",
       "    <tr>\n",
       "      <th>max</th>\n",
       "      <td>1.115000e+03</td>\n",
       "      <td>7.000000e+00</td>\n",
       "      <td>4.155100e+04</td>\n",
       "      <td>7.388000e+03</td>\n",
       "      <td>1.000000e+00</td>\n",
       "      <td>1.000000e+00</td>\n",
       "      <td>1.000000e+00</td>\n",
       "      <td>7.586000e+04</td>\n",
       "      <td>12.000000</td>\n",
       "      <td>2015.000000</td>\n",
       "      <td>1.000000e+00</td>\n",
       "      <td>50.000000</td>\n",
       "      <td>2015.000000</td>\n",
       "    </tr>\n",
       "  </tbody>\n",
       "</table>\n",
       "</div>"
      ],
      "text/plain": [
       "              store   day_of_week         sales     customers          open  \\\n",
       "count  1.017209e+06  1.017209e+06  1.017209e+06  1.017209e+06  1.017209e+06   \n",
       "mean   5.584297e+02  3.998341e+00  5.773819e+03  6.331459e+02  8.301067e-01   \n",
       "std    3.219087e+02  1.997391e+00  3.849926e+03  4.644117e+02  3.755392e-01   \n",
       "min    1.000000e+00  1.000000e+00  0.000000e+00  0.000000e+00  0.000000e+00   \n",
       "25%    2.800000e+02  2.000000e+00  3.727000e+03  4.050000e+02  1.000000e+00   \n",
       "50%    5.580000e+02  4.000000e+00  5.744000e+03  6.090000e+02  1.000000e+00   \n",
       "75%    8.380000e+02  6.000000e+00  7.856000e+03  8.370000e+02  1.000000e+00   \n",
       "max    1.115000e+03  7.000000e+00  4.155100e+04  7.388000e+03  1.000000e+00   \n",
       "\n",
       "              promo  school_holiday  competition_distance  \\\n",
       "count  1.017209e+06    1.017209e+06          1.014567e+06   \n",
       "mean   3.815145e-01    1.786467e-01          5.430086e+03   \n",
       "std    4.857586e-01    3.830564e-01          7.715324e+03   \n",
       "min    0.000000e+00    0.000000e+00          2.000000e+01   \n",
       "25%    0.000000e+00    0.000000e+00          7.100000e+02   \n",
       "50%    0.000000e+00    0.000000e+00          2.330000e+03   \n",
       "75%    1.000000e+00    0.000000e+00          6.890000e+03   \n",
       "max    1.000000e+00    1.000000e+00          7.586000e+04   \n",
       "\n",
       "       competition_open_since_month  competition_open_since_year  \\\n",
       "count                 693861.000000                693861.000000   \n",
       "mean                       7.222866                  2008.690228   \n",
       "std                        3.211832                     5.992644   \n",
       "min                        1.000000                  1900.000000   \n",
       "25%                        4.000000                  2006.000000   \n",
       "50%                        8.000000                  2010.000000   \n",
       "75%                       10.000000                  2013.000000   \n",
       "max                       12.000000                  2015.000000   \n",
       "\n",
       "             promo2  promo2_since_week  promo2_since_year  \n",
       "count  1.017209e+06      509178.000000      509178.000000  \n",
       "mean   5.005638e-01          23.269093        2011.752774  \n",
       "std    4.999999e-01          14.095973           1.662870  \n",
       "min    0.000000e+00           1.000000        2009.000000  \n",
       "25%    0.000000e+00          13.000000        2011.000000  \n",
       "50%    1.000000e+00          22.000000        2012.000000  \n",
       "75%    1.000000e+00          37.000000        2013.000000  \n",
       "max    1.000000e+00          50.000000        2015.000000  "
      ]
     },
     "execution_count": 4,
     "metadata": {},
     "output_type": "execute_result"
    }
   ],
   "source": [
    "sales.describe()"
   ]
  },
  {
   "cell_type": "code",
   "execution_count": 37,
   "metadata": {
    "cell_id": "72f10f08-2065-46a6-ab52-6cbd2f7e91ec",
    "deepnote_cell_height": 651,
    "deepnote_cell_type": "code",
    "deepnote_to_be_reexecuted": false,
    "execution_millis": 746,
    "execution_start": 1647552170761,
    "source_hash": "a41153e2",
    "tags": []
   },
   "outputs": [
    {
     "name": "stdout",
     "output_type": "stream",
     "text": [
      "<class 'pandas.core.frame.DataFrame'>\n",
      "Int64Index: 1017209 entries, 0 to 1017208\n",
      "Data columns (total 15 columns):\n",
      " #   Column                       Non-Null Count    Dtype  \n",
      "---  ------                       --------------    -----  \n",
      " 0   store                        1017209 non-null  int64  \n",
      " 1   day_of_week                  1017209 non-null  int64  \n",
      " 2   date                         1017209 non-null  object \n",
      " 3   sales                        1017209 non-null  int64  \n",
      " 4   customers                    1017209 non-null  int64  \n",
      " 5   open                         1017209 non-null  int64  \n",
      " 6   promo                        1017209 non-null  int64  \n",
      " 7   state_holiday                1017209 non-null  object \n",
      " 8   school_holiday               1017209 non-null  int64  \n",
      " 9   store_type                   1017209 non-null  object \n",
      " 10  competition_distance         1017209 non-null  float64\n",
      " 11  competition_open_since_year  1017209 non-null  float64\n",
      " 12  promo2                       1017209 non-null  int64  \n",
      " 13  promo2_since_year            1017209 non-null  int32  \n",
      " 14  promo_interval               1017209 non-null  object \n",
      "dtypes: float64(2), int32(1), int64(8), object(4)\n",
      "memory usage: 120.3+ MB\n"
     ]
    }
   ],
   "source": [
    "sales[\"date\"]=pd.to_datetime(sales[\"date\"]).dt.date\n",
    "sales.info()"
   ]
  },
  {
   "cell_type": "markdown",
   "metadata": {},
   "source": [
    "# Verificando informações ausentes na base de dados."
   ]
  },
  {
   "cell_type": "code",
   "execution_count": 6,
   "metadata": {
    "cell_id": "85bb13e4-f30a-4af1-8223-200f8229295d",
    "deepnote_cell_height": 760.1875,
    "deepnote_cell_type": "code",
    "deepnote_output_heights": [
     null,
     611
    ],
    "deepnote_to_be_reexecuted": false,
    "execution_millis": 4821,
    "execution_start": 1647552171309,
    "source_hash": "baaf94b4",
    "tags": []
   },
   "outputs": [
    {
     "data": {
      "text/plain": [
       "<AxesSubplot:>"
      ]
     },
     "execution_count": 6,
     "metadata": {},
     "output_type": "execute_result"
    },
    {
     "data": {
      "image/png": "[encoded data removed]",
      "text/plain": [
       "<Figure size 1800x720 with 2 Axes>"
      ]
     },
     "metadata": {
      "needs_background": "light"
     },
     "output_type": "display_data"
    }
   ],
   "source": [
    "msno.matrix(sales)"
   ]
  },
  {
   "cell_type": "markdown",
   "metadata": {},
   "source": [
    "# A base de dados informa se há feriado mas não especifica qual, somente usando letras a,b e c.. transformação realizada para um maior detalhamento dessa informação."
   ]
  },
  {
   "cell_type": "code",
   "execution_count": 7,
   "metadata": {
    "cell_id": "04eccb1a-fef2-459d-a3dc-29728a85e50f",
    "deepnote_cell_height": 1360.1875,
    "deepnote_cell_type": "code",
    "deepnote_table_loading": false,
    "deepnote_table_state": {
     "filters": [],
     "pageIndex": 39,
     "pageSize": 25,
     "sortBy": [
      {
       "id": "date",
       "type": "asc"
      }
     ]
    },
    "deepnote_to_be_reexecuted": false,
    "execution_millis": 254,
    "execution_start": 1647552177366,
    "source_hash": "850cd848",
    "tags": []
   },
   "outputs": [
    {
     "data": {
      "text/html": [
       "<div>\n",
       "<style scoped>\n",
       "    .dataframe tbody tr th:only-of-type {\n",
       "        vertical-align: middle;\n",
       "    }\n",
       "\n",
       "    .dataframe tbody tr th {\n",
       "        vertical-align: top;\n",
       "    }\n",
       "\n",
       "    .dataframe thead th {\n",
       "        text-align: right;\n",
       "    }\n",
       "</style>\n",
       "<table border=\"1\" class=\"dataframe\">\n",
       "  <thead>\n",
       "    <tr style=\"text-align: right;\">\n",
       "      <th></th>\n",
       "      <th>store</th>\n",
       "      <th>day_of_week</th>\n",
       "      <th>date</th>\n",
       "      <th>sales</th>\n",
       "      <th>customers</th>\n",
       "      <th>open</th>\n",
       "      <th>promo</th>\n",
       "      <th>state_holiday</th>\n",
       "      <th>school_holiday</th>\n",
       "      <th>store_type</th>\n",
       "      <th>assortment</th>\n",
       "      <th>competition_distance</th>\n",
       "      <th>competition_open_since_month</th>\n",
       "      <th>competition_open_since_year</th>\n",
       "      <th>promo2</th>\n",
       "      <th>promo2_since_week</th>\n",
       "      <th>promo2_since_year</th>\n",
       "      <th>promo_interval</th>\n",
       "    </tr>\n",
       "  </thead>\n",
       "  <tbody>\n",
       "    <tr>\n",
       "      <th>0</th>\n",
       "      <td>1</td>\n",
       "      <td>5</td>\n",
       "      <td>2015-07-31</td>\n",
       "      <td>5263</td>\n",
       "      <td>555</td>\n",
       "      <td>1</td>\n",
       "      <td>1</td>\n",
       "      <td>None</td>\n",
       "      <td>1</td>\n",
       "      <td>c</td>\n",
       "      <td>a</td>\n",
       "      <td>1270.0</td>\n",
       "      <td>9.0</td>\n",
       "      <td>2008.0</td>\n",
       "      <td>0</td>\n",
       "      <td>NaN</td>\n",
       "      <td>NaN</td>\n",
       "      <td>NaN</td>\n",
       "    </tr>\n",
       "    <tr>\n",
       "      <th>1</th>\n",
       "      <td>1</td>\n",
       "      <td>4</td>\n",
       "      <td>2015-07-30</td>\n",
       "      <td>5020</td>\n",
       "      <td>546</td>\n",
       "      <td>1</td>\n",
       "      <td>1</td>\n",
       "      <td>None</td>\n",
       "      <td>1</td>\n",
       "      <td>c</td>\n",
       "      <td>a</td>\n",
       "      <td>1270.0</td>\n",
       "      <td>9.0</td>\n",
       "      <td>2008.0</td>\n",
       "      <td>0</td>\n",
       "      <td>NaN</td>\n",
       "      <td>NaN</td>\n",
       "      <td>NaN</td>\n",
       "    </tr>\n",
       "    <tr>\n",
       "      <th>2</th>\n",
       "      <td>1</td>\n",
       "      <td>3</td>\n",
       "      <td>2015-07-29</td>\n",
       "      <td>4782</td>\n",
       "      <td>523</td>\n",
       "      <td>1</td>\n",
       "      <td>1</td>\n",
       "      <td>None</td>\n",
       "      <td>1</td>\n",
       "      <td>c</td>\n",
       "      <td>a</td>\n",
       "      <td>1270.0</td>\n",
       "      <td>9.0</td>\n",
       "      <td>2008.0</td>\n",
       "      <td>0</td>\n",
       "      <td>NaN</td>\n",
       "      <td>NaN</td>\n",
       "      <td>NaN</td>\n",
       "    </tr>\n",
       "    <tr>\n",
       "      <th>3</th>\n",
       "      <td>1</td>\n",
       "      <td>2</td>\n",
       "      <td>2015-07-28</td>\n",
       "      <td>5011</td>\n",
       "      <td>560</td>\n",
       "      <td>1</td>\n",
       "      <td>1</td>\n",
       "      <td>None</td>\n",
       "      <td>1</td>\n",
       "      <td>c</td>\n",
       "      <td>a</td>\n",
       "      <td>1270.0</td>\n",
       "      <td>9.0</td>\n",
       "      <td>2008.0</td>\n",
       "      <td>0</td>\n",
       "      <td>NaN</td>\n",
       "      <td>NaN</td>\n",
       "      <td>NaN</td>\n",
       "    </tr>\n",
       "    <tr>\n",
       "      <th>4</th>\n",
       "      <td>1</td>\n",
       "      <td>1</td>\n",
       "      <td>2015-07-27</td>\n",
       "      <td>6102</td>\n",
       "      <td>612</td>\n",
       "      <td>1</td>\n",
       "      <td>1</td>\n",
       "      <td>None</td>\n",
       "      <td>1</td>\n",
       "      <td>c</td>\n",
       "      <td>a</td>\n",
       "      <td>1270.0</td>\n",
       "      <td>9.0</td>\n",
       "      <td>2008.0</td>\n",
       "      <td>0</td>\n",
       "      <td>NaN</td>\n",
       "      <td>NaN</td>\n",
       "      <td>NaN</td>\n",
       "    </tr>\n",
       "    <tr>\n",
       "      <th>...</th>\n",
       "      <td>...</td>\n",
       "      <td>...</td>\n",
       "      <td>...</td>\n",
       "      <td>...</td>\n",
       "      <td>...</td>\n",
       "      <td>...</td>\n",
       "      <td>...</td>\n",
       "      <td>...</td>\n",
       "      <td>...</td>\n",
       "      <td>...</td>\n",
       "      <td>...</td>\n",
       "      <td>...</td>\n",
       "      <td>...</td>\n",
       "      <td>...</td>\n",
       "      <td>...</td>\n",
       "      <td>...</td>\n",
       "      <td>...</td>\n",
       "      <td>...</td>\n",
       "    </tr>\n",
       "    <tr>\n",
       "      <th>995</th>\n",
       "      <td>2</td>\n",
       "      <td>1</td>\n",
       "      <td>2015-06-08</td>\n",
       "      <td>3918</td>\n",
       "      <td>501</td>\n",
       "      <td>1</td>\n",
       "      <td>0</td>\n",
       "      <td>None</td>\n",
       "      <td>0</td>\n",
       "      <td>a</td>\n",
       "      <td>a</td>\n",
       "      <td>570.0</td>\n",
       "      <td>11.0</td>\n",
       "      <td>2007.0</td>\n",
       "      <td>1</td>\n",
       "      <td>13.0</td>\n",
       "      <td>2010.0</td>\n",
       "      <td>Jan,Apr,Jul,Oct</td>\n",
       "    </tr>\n",
       "    <tr>\n",
       "      <th>996</th>\n",
       "      <td>2</td>\n",
       "      <td>7</td>\n",
       "      <td>2015-06-07</td>\n",
       "      <td>0</td>\n",
       "      <td>0</td>\n",
       "      <td>0</td>\n",
       "      <td>0</td>\n",
       "      <td>None</td>\n",
       "      <td>0</td>\n",
       "      <td>a</td>\n",
       "      <td>a</td>\n",
       "      <td>570.0</td>\n",
       "      <td>11.0</td>\n",
       "      <td>2007.0</td>\n",
       "      <td>1</td>\n",
       "      <td>13.0</td>\n",
       "      <td>2010.0</td>\n",
       "      <td>Jan,Apr,Jul,Oct</td>\n",
       "    </tr>\n",
       "    <tr>\n",
       "      <th>997</th>\n",
       "      <td>2</td>\n",
       "      <td>6</td>\n",
       "      <td>2015-06-06</td>\n",
       "      <td>2641</td>\n",
       "      <td>319</td>\n",
       "      <td>1</td>\n",
       "      <td>0</td>\n",
       "      <td>None</td>\n",
       "      <td>0</td>\n",
       "      <td>a</td>\n",
       "      <td>a</td>\n",
       "      <td>570.0</td>\n",
       "      <td>11.0</td>\n",
       "      <td>2007.0</td>\n",
       "      <td>1</td>\n",
       "      <td>13.0</td>\n",
       "      <td>2010.0</td>\n",
       "      <td>Jan,Apr,Jul,Oct</td>\n",
       "    </tr>\n",
       "    <tr>\n",
       "      <th>998</th>\n",
       "      <td>2</td>\n",
       "      <td>5</td>\n",
       "      <td>2015-06-05</td>\n",
       "      <td>4938</td>\n",
       "      <td>532</td>\n",
       "      <td>1</td>\n",
       "      <td>1</td>\n",
       "      <td>None</td>\n",
       "      <td>0</td>\n",
       "      <td>a</td>\n",
       "      <td>a</td>\n",
       "      <td>570.0</td>\n",
       "      <td>11.0</td>\n",
       "      <td>2007.0</td>\n",
       "      <td>1</td>\n",
       "      <td>13.0</td>\n",
       "      <td>2010.0</td>\n",
       "      <td>Jan,Apr,Jul,Oct</td>\n",
       "    </tr>\n",
       "    <tr>\n",
       "      <th>999</th>\n",
       "      <td>2</td>\n",
       "      <td>4</td>\n",
       "      <td>2015-06-04</td>\n",
       "      <td>5810</td>\n",
       "      <td>646</td>\n",
       "      <td>1</td>\n",
       "      <td>1</td>\n",
       "      <td>None</td>\n",
       "      <td>0</td>\n",
       "      <td>a</td>\n",
       "      <td>a</td>\n",
       "      <td>570.0</td>\n",
       "      <td>11.0</td>\n",
       "      <td>2007.0</td>\n",
       "      <td>1</td>\n",
       "      <td>13.0</td>\n",
       "      <td>2010.0</td>\n",
       "      <td>Jan,Apr,Jul,Oct</td>\n",
       "    </tr>\n",
       "  </tbody>\n",
       "</table>\n",
       "<p>1000 rows × 18 columns</p>\n",
       "</div>"
      ],
      "text/plain": [
       "     store  day_of_week        date  sales  customers  open  promo  \\\n",
       "0        1            5  2015-07-31   5263        555     1      1   \n",
       "1        1            4  2015-07-30   5020        546     1      1   \n",
       "2        1            3  2015-07-29   4782        523     1      1   \n",
       "3        1            2  2015-07-28   5011        560     1      1   \n",
       "4        1            1  2015-07-27   6102        612     1      1   \n",
       "..     ...          ...         ...    ...        ...   ...    ...   \n",
       "995      2            1  2015-06-08   3918        501     1      0   \n",
       "996      2            7  2015-06-07      0          0     0      0   \n",
       "997      2            6  2015-06-06   2641        319     1      0   \n",
       "998      2            5  2015-06-05   4938        532     1      1   \n",
       "999      2            4  2015-06-04   5810        646     1      1   \n",
       "\n",
       "    state_holiday  school_holiday store_type assortment  competition_distance  \\\n",
       "0            None               1          c          a                1270.0   \n",
       "1            None               1          c          a                1270.0   \n",
       "2            None               1          c          a                1270.0   \n",
       "3            None               1          c          a                1270.0   \n",
       "4            None               1          c          a                1270.0   \n",
       "..            ...             ...        ...        ...                   ...   \n",
       "995          None               0          a          a                 570.0   \n",
       "996          None               0          a          a                 570.0   \n",
       "997          None               0          a          a                 570.0   \n",
       "998          None               0          a          a                 570.0   \n",
       "999          None               0          a          a                 570.0   \n",
       "\n",
       "     competition_open_since_month  competition_open_since_year  promo2  \\\n",
       "0                             9.0                       2008.0       0   \n",
       "1                             9.0                       2008.0       0   \n",
       "2                             9.0                       2008.0       0   \n",
       "3                             9.0                       2008.0       0   \n",
       "4                             9.0                       2008.0       0   \n",
       "..                            ...                          ...     ...   \n",
       "995                          11.0                       2007.0       1   \n",
       "996                          11.0                       2007.0       1   \n",
       "997                          11.0                       2007.0       1   \n",
       "998                          11.0                       2007.0       1   \n",
       "999                          11.0                       2007.0       1   \n",
       "\n",
       "     promo2_since_week  promo2_since_year   promo_interval  \n",
       "0                  NaN                NaN              NaN  \n",
       "1                  NaN                NaN              NaN  \n",
       "2                  NaN                NaN              NaN  \n",
       "3                  NaN                NaN              NaN  \n",
       "4                  NaN                NaN              NaN  \n",
       "..                 ...                ...              ...  \n",
       "995               13.0             2010.0  Jan,Apr,Jul,Oct  \n",
       "996               13.0             2010.0  Jan,Apr,Jul,Oct  \n",
       "997               13.0             2010.0  Jan,Apr,Jul,Oct  \n",
       "998               13.0             2010.0  Jan,Apr,Jul,Oct  \n",
       "999               13.0             2010.0  Jan,Apr,Jul,Oct  \n",
       "\n",
       "[1000 rows x 18 columns]"
      ]
     },
     "execution_count": 7,
     "metadata": {},
     "output_type": "execute_result"
    }
   ],
   "source": [
    "#a = public holiday, b = Easter holiday, c = Christmas, 0 = None\n",
    "sales[\"state_holiday\"].replace({\"a\": \"public_holiday\", \"b\": \"easter_holiday\", \"c\": \"christmas\", \"0\": \"None\", 0: \"None\"}, inplace=True)\n",
    "\n",
    "sales.head(1000)"
   ]
  },
  {
   "cell_type": "markdown",
   "metadata": {},
   "source": [
    "# Verificando quais colunas precisam de tratamento"
   ]
  },
  {
   "cell_type": "code",
   "execution_count": 8,
   "metadata": {
    "cell_id": "ae2d9769-b629-4153-8420-bbc337e6ce8a",
    "deepnote_cell_height": 464,
    "deepnote_cell_type": "code",
    "deepnote_output_heights": [
     366.5625
    ],
    "deepnote_to_be_reexecuted": false,
    "execution_millis": 227,
    "execution_start": 1647552177624,
    "source_hash": "8cf44aad",
    "tags": []
   },
   "outputs": [
    {
     "data": {
      "text/plain": [
       "store                                0\n",
       "day_of_week                          0\n",
       "date                                 0\n",
       "sales                                0\n",
       "customers                            0\n",
       "open                                 0\n",
       "promo                                0\n",
       "state_holiday                        0\n",
       "school_holiday                       0\n",
       "store_type                           0\n",
       "assortment                           0\n",
       "competition_distance              2642\n",
       "competition_open_since_month    323348\n",
       "competition_open_since_year     323348\n",
       "promo2                               0\n",
       "promo2_since_week               508031\n",
       "promo2_since_year               508031\n",
       "promo_interval                  508031\n",
       "dtype: int64"
      ]
     },
     "execution_count": 8,
     "metadata": {},
     "output_type": "execute_result"
    }
   ],
   "source": [
    "sales.isna().sum()"
   ]
  },
  {
   "cell_type": "markdown",
   "metadata": {},
   "source": [
    "# Como não havia informação alguma de localização das lojas, presumi que as lojas que não tinham a informação sobre a distancia da concorrência deveriam receber o valor máximo presente na base de dados.\n"
   ]
  },
  {
   "cell_type": "code",
   "execution_count": 9,
   "metadata": {
    "cell_id": "d5599069-5324-4742-96cd-5068471c7c83",
    "deepnote_cell_height": 482,
    "deepnote_cell_type": "code",
    "deepnote_output_heights": [
     366.5625
    ],
    "deepnote_to_be_reexecuted": false,
    "execution_millis": 224,
    "execution_start": 1647552177855,
    "source_hash": "6a96b72e",
    "tags": []
   },
   "outputs": [],
   "source": [
    "sales[\"competition_distance\"].fillna(sales[\"competition_distance\"].max(), inplace = True)"
   ]
  },
  {
   "cell_type": "markdown",
   "metadata": {},
   "source": [
    "# Colunas excluídas por não haver maiores detalhes na base de dados."
   ]
  },
  {
   "cell_type": "code",
   "execution_count": 10,
   "metadata": {
    "cell_id": "2233b497-26da-4c34-9651-8a763d89a612",
    "deepnote_cell_height": 186.375,
    "deepnote_cell_type": "code",
    "deepnote_to_be_reexecuted": false,
    "execution_millis": 82,
    "execution_start": 1647552178079,
    "source_hash": "64f9516a",
    "tags": []
   },
   "outputs": [],
   "source": [
    "sales.drop([\"assortment\", \"competition_open_since_month\"], axis=1, inplace=True)\n"
   ]
  },
  {
   "cell_type": "markdown",
   "metadata": {},
   "source": [
    "# Dados ausentes tratados de maneira simples na coluna \"Competição desde x ano\", dados ausentes são substituidos pelo ano mínimo presente na base de dados.\n"
   ]
  },
  {
   "cell_type": "code",
   "execution_count": 11,
   "metadata": {
    "cell_id": "0fcb6a48-3610-47f4-ae6d-8e72a6caa606",
    "deepnote_cell_height": 329.25,
    "deepnote_cell_type": "code",
    "deepnote_output_heights": [
     232.25
    ],
    "deepnote_to_be_reexecuted": false,
    "execution_millis": 467,
    "execution_start": 1647552178160,
    "source_hash": "3d366b96",
    "tags": []
   },
   "outputs": [
    {
     "data": {
      "text/plain": [
       "0          2013\n",
       "1          2013\n",
       "2          2013\n",
       "3          2013\n",
       "4          2013\n",
       "           ... \n",
       "1017204    2013\n",
       "1017205    2013\n",
       "1017206    2013\n",
       "1017207    2013\n",
       "1017208    2013\n",
       "Name: date, Length: 1017209, dtype: int64"
      ]
     },
     "execution_count": 11,
     "metadata": {},
     "output_type": "execute_result"
    }
   ],
   "source": [
    "sales.groupby(\"store\")[\"date\"].transform(lambda x: x.min().year)"
   ]
  },
  {
   "cell_type": "code",
   "execution_count": 12,
   "metadata": {
    "cell_id": "52058799-6ca8-42c9-b91d-b5bfd1f41097",
    "deepnote_cell_height": 462,
    "deepnote_cell_type": "code",
    "deepnote_to_be_reexecuted": false,
    "execution_millis": 22,
    "execution_start": 1647552178606,
    "source_hash": "91e34f81",
    "tags": []
   },
   "outputs": [],
   "source": [
    "mask=sales[\"competition_open_since_year\"].isna()\n",
    "sales.loc[mask, 'competition_open_since_year'] = 2013"
   ]
  },
  {
   "cell_type": "markdown",
   "metadata": {},
   "source": [
    "# Tratamento para outra coluna com poucos detalhes na base de dados."
   ]
  },
  {
   "cell_type": "code",
   "execution_count": 13,
   "metadata": {
    "cell_id": "83e3b7f9-51d4-45d8-a509-1f1005cdd24d",
    "deepnote_cell_height": 461.1875,
    "deepnote_cell_type": "code",
    "deepnote_output_heights": [
     328.1875
    ],
    "deepnote_to_be_reexecuted": false,
    "execution_millis": 193,
    "execution_start": 1647552178608,
    "source_hash": "83207055",
    "tags": []
   },
   "outputs": [
    {
     "data": {
      "text/plain": [
       "store                          0\n",
       "day_of_week                    0\n",
       "date                           0\n",
       "sales                          0\n",
       "customers                      0\n",
       "open                           0\n",
       "promo                          0\n",
       "state_holiday                  0\n",
       "school_holiday                 0\n",
       "store_type                     0\n",
       "competition_distance           0\n",
       "competition_open_since_year    0\n",
       "promo2                         0\n",
       "promo2_since_year              0\n",
       "promo_interval                 0\n",
       "dtype: int64"
      ]
     },
     "execution_count": 13,
     "metadata": {},
     "output_type": "execute_result"
    }
   ],
   "source": [
    "sales['promo2_since_year'].replace(np.nan, 0, inplace=True)\n",
    "sales['promo2_since_year'] = sales['promo2_since_year'].astype(np.int32)\n",
    "\n",
    "sales[\"promo_interval\"].replace(np.nan, \"None\", inplace=True)\n",
    "\n",
    "#Mais uma coluna com poucos detalhes, decidido removê-la da base.\n",
    "\n",
    "sales.drop([\"promo2_since_week\"], axis=1, inplace=True)\n",
    "sales.isna().sum()\n"
   ]
  },
  {
   "cell_type": "markdown",
   "metadata": {},
   "source": [
    "# Base de dados após o tratamento da mesma."
   ]
  },
  {
   "cell_type": "code",
   "execution_count": 14,
   "metadata": {
    "cell_id": "46255b61-68c0-43ff-9a44-1f12b463f8a6",
    "deepnote_cell_height": 760.1875,
    "deepnote_cell_type": "code",
    "deepnote_output_heights": [
     null,
     611
    ],
    "deepnote_to_be_reexecuted": false,
    "execution_millis": 4091,
    "execution_start": 1647552179263,
    "source_hash": "baaf94b4",
    "tags": []
   },
   "outputs": [
    {
     "data": {
      "text/plain": [
       "<AxesSubplot:>"
      ]
     },
     "execution_count": 14,
     "metadata": {},
     "output_type": "execute_result"
    },
    {
     "data": {
      "image/png": "[encoded data removed]",
      "text/plain": [
       "<Figure size 1800x720 with 2 Axes>"
      ]
     },
     "metadata": {
      "needs_background": "light"
     },
     "output_type": "display_data"
    }
   ],
   "source": [
    "msno.matrix(sales)"
   ]
  },
  {
   "cell_type": "markdown",
   "metadata": {
    "cell_id": "ab1de2d2-fd01-4039-b69e-ca8ec7be269b",
    "deepnote_cell_height": 52.390625,
    "deepnote_cell_type": "markdown",
    "tags": []
   },
   "source": [
    "# Questionamentos sobre a base de dados:"
   ]
  },
  {
   "cell_type": "markdown",
   "metadata": {},
   "source": [
    "## Qual loja fez mais vendas?"
   ]
  },
  {
   "cell_type": "code",
   "execution_count": 15,
   "metadata": {
    "cell_id": "5470d9af-4890-4b9d-92ca-059786a280e1",
    "deepnote_cell_height": 265,
    "deepnote_cell_type": "code",
    "deepnote_to_be_reexecuted": false,
    "execution_millis": 36,
    "execution_start": 1647552183358,
    "source_hash": "2b5d0c5f",
    "tags": []
   },
   "outputs": [
    {
     "data": {
      "text/html": [
       "<div>\n",
       "<style scoped>\n",
       "    .dataframe tbody tr th:only-of-type {\n",
       "        vertical-align: middle;\n",
       "    }\n",
       "\n",
       "    .dataframe tbody tr th {\n",
       "        vertical-align: top;\n",
       "    }\n",
       "\n",
       "    .dataframe thead th {\n",
       "        text-align: right;\n",
       "    }\n",
       "</style>\n",
       "<table border=\"1\" class=\"dataframe\">\n",
       "  <thead>\n",
       "    <tr style=\"text-align: right;\">\n",
       "      <th></th>\n",
       "      <th>sales</th>\n",
       "    </tr>\n",
       "    <tr>\n",
       "      <th>store</th>\n",
       "      <th></th>\n",
       "    </tr>\n",
       "  </thead>\n",
       "  <tbody>\n",
       "    <tr>\n",
       "      <th>262</th>\n",
       "      <td>19516842</td>\n",
       "    </tr>\n",
       "  </tbody>\n",
       "</table>\n",
       "</div>"
      ],
      "text/plain": [
       "          sales\n",
       "store          \n",
       "262    19516842"
      ]
     },
     "execution_count": 15,
     "metadata": {},
     "output_type": "execute_result"
    }
   ],
   "source": [
    "sales.groupby(\"store\")[[\"sales\"]].sum().sort_values(\"sales\", ascending=False).head(1)"
   ]
  },
  {
   "cell_type": "markdown",
   "metadata": {},
   "source": [
    "# Scatterplot das vendas por identificador da loja."
   ]
  },
  {
   "cell_type": "code",
   "execution_count": 16,
   "metadata": {
    "cell_id": "df0e3132-1675-49ea-9929-8d40116b6aef",
    "deepnote_cell_height": 630,
    "deepnote_cell_type": "code",
    "deepnote_output_heights": [
     389
    ],
    "deepnote_to_be_reexecuted": false,
    "execution_millis": 273,
    "execution_start": 1647552183401,
    "source_hash": "af10d89",
    "tags": []
   },
   "outputs": [
    {
     "data": {
      "image/png": "[encoded data removed]",
      "text/plain": [
       "<Figure size 360x432 with 1 Axes>"
      ]
     },
     "metadata": {
      "needs_background": "light"
     },
     "output_type": "display_data"
    }
   ],
   "source": [
    "from matplotlib.ticker import EngFormatter\n",
    "fig, ax=plt.subplots(figsize=(5, 6))\n",
    "mean_cs = sales.pivot_table(index='store', values='sales', aggfunc='sum')\n",
    "plt.scatter(mean_cs.index, mean_cs['sales']);\n",
    "ax.set_title(\"Vendas por loja\")\n",
    "ax.set_ylabel(\"Quantidade de vendas (em milhões)\")\n",
    "ax.set_xlabel(\"Identificador da loja\")\n",
    "ax.yaxis.set_major_formatter(EngFormatter())\n",
    "plt.show()"
   ]
  },
  {
   "cell_type": "markdown",
   "metadata": {
    "cell_id": "39a5e304-58b2-44de-b0f4-17fb4efaad45",
    "deepnote_cell_height": 144.1875,
    "deepnote_cell_type": "code",
    "deepnote_to_be_reexecuted": false,
    "execution_millis": 1,
    "execution_start": 1647552183670,
    "source_hash": "b623e53d",
    "tags": []
   },
   "source": [
    "## TOP 5 de lojas sobre vendas."
   ]
  },
  {
   "cell_type": "code",
   "execution_count": 17,
   "metadata": {
    "cell_id": "7e481beb-8468-4410-81b6-ac050b85ddaa",
    "deepnote_cell_height": 899.375,
    "deepnote_cell_type": "code",
    "deepnote_output_heights": [
     null,
     426
    ],
    "deepnote_to_be_reexecuted": false,
    "execution_millis": 197,
    "execution_start": 1647552183690,
    "source_hash": "35c59991",
    "tags": []
   },
   "outputs": [
    {
     "name": "stderr",
     "output_type": "stream",
     "text": [
      "C:\\Users\\Lucas\\anaconda3\\lib\\site-packages\\seaborn\\_decorators.py:36: FutureWarning: Pass the following variables as keyword args: x, y. From version 0.12, the only valid positional argument will be `data`, and passing other arguments without an explicit keyword will result in an error or misinterpretation.\n",
      "  warnings.warn(\n"
     ]
    },
    {
     "data": {
      "image/png": "[encoded data removed]",
      "text/plain": [
       "<Figure size 360x432 with 1 Axes>"
      ]
     },
     "metadata": {
      "needs_background": "light"
     },
     "output_type": "display_data"
    }
   ],
   "source": [
    "from matplotlib.ticker import FormatStrFormatter\n",
    "from matplotlib.ticker import EngFormatter\n",
    "fig, ax=plt.subplots(figsize=(5, 6))\n",
    "df=sales.groupby(\"store\")[[\"sales\"]].sum().sort_values(\"sales\", ascending=False).head(5)\n",
    "cores=[\"#595959\" for i in range(len(df))]\n",
    "indexMaior=list(df.index).index(df.sales.idxmax())\n",
    "cores[indexMaior]=\"#156590\"\n",
    "sns.barplot(df.index, df.sales, ci=None, estimator=sum, palette=cores, order=df.index)\n",
    "ax.set_title(\"Vendas por loja\")\n",
    "ax.set_ylabel(\"Quantidade de vendas (em milhões)\")\n",
    "ax.set_xlabel(\"Identificador da loja\")\n",
    "ax.yaxis.set_major_formatter(EngFormatter())\n",
    "ax.set_yticks(np.arange(0, 25000000, step=5000000));\n",
    "plt.show()"
   ]
  },
  {
   "cell_type": "markdown",
   "metadata": {},
   "source": [
    "# As piores 5 lojas em quesito vendas."
   ]
  },
  {
   "cell_type": "code",
   "execution_count": 19,
   "metadata": {
    "cell_id": "378df69a-4ea1-406a-b663-f91c92c9acf7",
    "deepnote_cell_height": 899.375,
    "deepnote_cell_type": "code",
    "deepnote_output_heights": [
     null,
     426
    ],
    "deepnote_to_be_reexecuted": false,
    "execution_millis": 166,
    "execution_start": 1647552183993,
    "source_hash": "6d3ef5",
    "tags": []
   },
   "outputs": [
    {
     "name": "stderr",
     "output_type": "stream",
     "text": [
      "C:\\Users\\Lucas\\anaconda3\\lib\\site-packages\\seaborn\\_decorators.py:36: FutureWarning: Pass the following variables as keyword args: x, y. From version 0.12, the only valid positional argument will be `data`, and passing other arguments without an explicit keyword will result in an error or misinterpretation.\n",
      "  warnings.warn(\n"
     ]
    },
    {
     "data": {
      "image/png": "[encoded data removed]",
      "text/plain": [
       "<Figure size 360x432 with 1 Axes>"
      ]
     },
     "metadata": {
      "needs_background": "light"
     },
     "output_type": "display_data"
    }
   ],
   "source": [
    "fig, ax=plt.subplots(figsize=(5, 6))\n",
    "df=sales.groupby(\"store\")[[\"sales\"]].sum().sort_values(\"sales\", ascending=False).tail(5)\n",
    "cores=[\"#595959\" for i in range(len(df))]\n",
    "indexMenor=list(df.index).index(df.sales.idxmin())\n",
    "cores[indexMenor]=\"#156590\"\n",
    "sns.barplot(df.index, df.sales, ci=None, estimator=sum, palette=cores, order=df.index)\n",
    "ax.set_title(\"Vendas por loja\")\n",
    "ax.set_ylabel(\"Quantidade de vendas (em milhões)\")\n",
    "ax.set_xlabel(\"Identificador da loja\")\n",
    "ax.yaxis.set_major_formatter(EngFormatter())\n",
    "ax.set_ylim(0, 2500000)\n",
    "ax.set_yticks(np.arange(0, 3000000, step=500000))\n",
    "plt.show()"
   ]
  },
  {
   "cell_type": "markdown",
   "metadata": {},
   "source": [
    "# A loja com a maior média de clientes."
   ]
  },
  {
   "cell_type": "code",
   "execution_count": 20,
   "metadata": {
    "cell_id": "57861f03-8add-4bc1-aedf-a6a48da99f1d",
    "deepnote_cell_height": 265,
    "deepnote_cell_type": "code",
    "deepnote_to_be_reexecuted": false,
    "execution_millis": 57,
    "execution_start": 1647552184178,
    "source_hash": "8d6a15b8",
    "tags": []
   },
   "outputs": [
    {
     "data": {
      "text/html": [
       "<div>\n",
       "<style scoped>\n",
       "    .dataframe tbody tr th:only-of-type {\n",
       "        vertical-align: middle;\n",
       "    }\n",
       "\n",
       "    .dataframe tbody tr th {\n",
       "        vertical-align: top;\n",
       "    }\n",
       "\n",
       "    .dataframe thead th {\n",
       "        text-align: right;\n",
       "    }\n",
       "</style>\n",
       "<table border=\"1\" class=\"dataframe\">\n",
       "  <thead>\n",
       "    <tr style=\"text-align: right;\">\n",
       "      <th></th>\n",
       "      <th>customers</th>\n",
       "    </tr>\n",
       "    <tr>\n",
       "      <th>store</th>\n",
       "      <th></th>\n",
       "    </tr>\n",
       "  </thead>\n",
       "  <tbody>\n",
       "    <tr>\n",
       "      <th>733</th>\n",
       "      <td>3403.458599</td>\n",
       "    </tr>\n",
       "  </tbody>\n",
       "</table>\n",
       "</div>"
      ],
      "text/plain": [
       "         customers\n",
       "store             \n",
       "733    3403.458599"
      ]
     },
     "execution_count": 20,
     "metadata": {},
     "output_type": "execute_result"
    }
   ],
   "source": [
    "sales.groupby(\"store\")[[\"customers\"]].mean().sort_values(\"customers\", ascending=False).iloc[0, :]\n",
    "sales.groupby(\"store\")[[\"customers\"]].mean().sort_values(\"customers\", ascending=False).head(1)"
   ]
  },
  {
   "cell_type": "markdown",
   "metadata": {},
   "source": [
    "# TOP 5 em média de clientes por loja (Lojas 262 e 562 presentes também no TOP 5 de vendas)"
   ]
  },
  {
   "cell_type": "code",
   "execution_count": 21,
   "metadata": {
    "cell_id": "f804ef74-01e6-4914-841d-ee1fbd5f7039",
    "deepnote_cell_height": 774.375,
    "deepnote_cell_type": "code",
    "deepnote_output_heights": [
     null,
     427
    ],
    "deepnote_to_be_reexecuted": false,
    "execution_millis": 230,
    "execution_start": 1647552184241,
    "source_hash": "6f5c1206",
    "tags": []
   },
   "outputs": [
    {
     "name": "stderr",
     "output_type": "stream",
     "text": [
      "C:\\Users\\Lucas\\anaconda3\\lib\\site-packages\\seaborn\\_decorators.py:36: FutureWarning: Pass the following variables as keyword args: x, y. From version 0.12, the only valid positional argument will be `data`, and passing other arguments without an explicit keyword will result in an error or misinterpretation.\n",
      "  warnings.warn(\n"
     ]
    },
    {
     "data": {
      "image/png": "[encoded data removed]",
      "text/plain": [
       "<Figure size 360x432 with 1 Axes>"
      ]
     },
     "metadata": {
      "needs_background": "light"
     },
     "output_type": "display_data"
    }
   ],
   "source": [
    "fig, ax=plt.subplots(figsize=(5, 6))\n",
    "df=sales.groupby(\"store\")[[\"customers\"]].mean().sort_values(\"customers\", ascending=False).head(5)\n",
    "cores=[\"#595959\" for i in range(len(df))]\n",
    "index=list(df.index).index(df.customers.idxmax())\n",
    "cores[index]=\"#156590\"\n",
    "sns.barplot(df.index, df.customers, ci=None, estimator=sum, palette=cores, order=df.index)\n",
    "ax.set_title(\"Média de clientes por loja\")\n",
    "ax.set_ylabel(\"Quantidade de clientes (em milhares)\")\n",
    "ax.set_xlabel(\"Identificador da loja\")\n",
    "ax.yaxis.set_major_formatter(EngFormatter())\n",
    "plt.show()"
   ]
  },
  {
   "cell_type": "markdown",
   "metadata": {},
   "source": [
    "# 5 lojas com a menor média de clientes (307 também presente nas 5 piores no quesito vendas)"
   ]
  },
  {
   "cell_type": "code",
   "execution_count": 22,
   "metadata": {
    "cell_id": "fbce3fc7-600a-4540-a233-fde20a9712c7",
    "deepnote_cell_height": 774.375,
    "deepnote_cell_type": "code",
    "deepnote_output_heights": [
     null,
     427
    ],
    "deepnote_to_be_reexecuted": false,
    "execution_millis": 523,
    "execution_start": 1647552184478,
    "source_hash": "623cc3ea",
    "tags": []
   },
   "outputs": [
    {
     "name": "stderr",
     "output_type": "stream",
     "text": [
      "C:\\Users\\Lucas\\anaconda3\\lib\\site-packages\\seaborn\\_decorators.py:36: FutureWarning: Pass the following variables as keyword args: x, y. From version 0.12, the only valid positional argument will be `data`, and passing other arguments without an explicit keyword will result in an error or misinterpretation.\n",
      "  warnings.warn(\n"
     ]
    },
    {
     "data": {
      "image/png": "[encoded data removed]",
      "text/plain": [
       "<Figure size 360x432 with 1 Axes>"
      ]
     },
     "metadata": {
      "needs_background": "light"
     },
     "output_type": "display_data"
    }
   ],
   "source": [
    "fig, ax=plt.subplots(figsize=(5, 6))\n",
    "df=sales.groupby(\"store\")[[\"customers\"]].mean().sort_values(\"customers\", ascending=False).tail(5)\n",
    "cores=[\"#595959\" for i in range(len(df))]\n",
    "index=list(df.index).index(df.customers.idxmin())\n",
    "cores[index]=\"#156590\"\n",
    "sns.barplot(df.index, df.customers, ci=None, estimator=sum, palette=cores, order=df.index)\n",
    "ax.set_title(\"Média de clientes por loja\")\n",
    "ax.set_ylabel(\"Quantidade de clientes\")\n",
    "ax.set_xlabel(\"Identificador da loja\")\n",
    "ax.yaxis.set_major_formatter(EngFormatter())\n",
    "plt.show()"
   ]
  },
  {
   "cell_type": "markdown",
   "metadata": {},
   "source": [
    "# Média de clientes por loja."
   ]
  },
  {
   "cell_type": "code",
   "execution_count": 23,
   "metadata": {
    "cell_id": "efa5af92-f53b-4624-bd56-adbe77c0f49f",
    "deepnote_cell_height": 616,
    "deepnote_cell_type": "code",
    "deepnote_to_be_reexecuted": false,
    "execution_millis": 294,
    "execution_start": 1647552184719,
    "source_hash": "322fb35c",
    "tags": []
   },
   "outputs": [
    {
     "data": {
      "text/html": [
       "<div>\n",
       "<style scoped>\n",
       "    .dataframe tbody tr th:only-of-type {\n",
       "        vertical-align: middle;\n",
       "    }\n",
       "\n",
       "    .dataframe tbody tr th {\n",
       "        vertical-align: top;\n",
       "    }\n",
       "\n",
       "    .dataframe thead th {\n",
       "        text-align: right;\n",
       "    }\n",
       "</style>\n",
       "<table border=\"1\" class=\"dataframe\">\n",
       "  <thead>\n",
       "    <tr style=\"text-align: right;\">\n",
       "      <th></th>\n",
       "      <th>customers</th>\n",
       "    </tr>\n",
       "    <tr>\n",
       "      <th>store</th>\n",
       "      <th></th>\n",
       "    </tr>\n",
       "  </thead>\n",
       "  <tbody>\n",
       "    <tr>\n",
       "      <th>1</th>\n",
       "      <td>467.646497</td>\n",
       "    </tr>\n",
       "    <tr>\n",
       "      <th>2</th>\n",
       "      <td>486.045648</td>\n",
       "    </tr>\n",
       "    <tr>\n",
       "      <th>3</th>\n",
       "      <td>620.286624</td>\n",
       "    </tr>\n",
       "    <tr>\n",
       "      <th>4</th>\n",
       "      <td>1100.057325</td>\n",
       "    </tr>\n",
       "    <tr>\n",
       "      <th>5</th>\n",
       "      <td>444.360934</td>\n",
       "    </tr>\n",
       "    <tr>\n",
       "      <th>...</th>\n",
       "      <td>...</td>\n",
       "    </tr>\n",
       "    <tr>\n",
       "      <th>1111</th>\n",
       "      <td>373.548832</td>\n",
       "    </tr>\n",
       "    <tr>\n",
       "      <th>1112</th>\n",
       "      <td>693.498938</td>\n",
       "    </tr>\n",
       "    <tr>\n",
       "      <th>1113</th>\n",
       "      <td>596.763270</td>\n",
       "    </tr>\n",
       "    <tr>\n",
       "      <th>1114</th>\n",
       "      <td>2664.057325</td>\n",
       "    </tr>\n",
       "    <tr>\n",
       "      <th>1115</th>\n",
       "      <td>358.687898</td>\n",
       "    </tr>\n",
       "  </tbody>\n",
       "</table>\n",
       "<p>1115 rows × 1 columns</p>\n",
       "</div>"
      ],
      "text/plain": [
       "         customers\n",
       "store             \n",
       "1       467.646497\n",
       "2       486.045648\n",
       "3       620.286624\n",
       "4      1100.057325\n",
       "5       444.360934\n",
       "...            ...\n",
       "1111    373.548832\n",
       "1112    693.498938\n",
       "1113    596.763270\n",
       "1114   2664.057325\n",
       "1115    358.687898\n",
       "\n",
       "[1115 rows x 1 columns]"
      ]
     },
     "execution_count": 23,
     "metadata": {},
     "output_type": "execute_result"
    }
   ],
   "source": [
    "sales.groupby(\"store\")[[\"customers\"]].mean()"
   ]
  },
  {
   "cell_type": "markdown",
   "metadata": {},
   "source": [
    "# Scatterplot da média de clientes por loja."
   ]
  },
  {
   "cell_type": "code",
   "execution_count": 32,
   "metadata": {
    "cell_id": "4472e265-4db1-4823-861c-a66e1373b081",
    "deepnote_cell_height": 650,
    "deepnote_cell_type": "code",
    "deepnote_output_heights": [
     427
    ],
    "deepnote_to_be_reexecuted": false,
    "execution_millis": 252,
    "execution_start": 1647552184773,
    "source_hash": "313adb8c",
    "tags": []
   },
   "outputs": [
    {
     "data": {
      "image/png": "[encoded data removed]",
      "text/plain": [
       "<Figure size 360x432 with 1 Axes>"
      ]
     },
     "metadata": {
      "needs_background": "light"
     },
     "output_type": "display_data"
    }
   ],
   "source": [
    "fig, ax=plt.subplots(figsize=(5, 6))\n",
    "mean_cs = sales.pivot_table(index='store', values='customers', aggfunc='mean')\n",
    "plt.scatter(mean_cs.index, mean_cs['customers']);\n",
    "ax.set_title(\"Média de clientes por loja\")\n",
    "ax.set_ylabel(\"Quantidade de clientes (em milhares)\")\n",
    "ax.set_xlabel(\"Identificador da loja\")\n",
    "ax.yaxis.set_major_formatter(EngFormatter())\n",
    "plt.show()"
   ]
  },
  {
   "cell_type": "markdown",
   "metadata": {},
   "source": [
    "# Gráfico de dispersão (número de clientes x número de vendas). Outliers mínimos quase nulos."
   ]
  },
  {
   "cell_type": "code",
   "execution_count": 34,
   "metadata": {
    "cell_id": "96654641-a9cd-4868-8d4b-6297e30a2765",
    "deepnote_cell_height": 800,
    "deepnote_cell_type": "code",
    "deepnote_output_heights": [
     21.1875,
     null,
     418
    ],
    "deepnote_to_be_reexecuted": false,
    "execution_millis": 271657,
    "execution_start": 1647552185039,
    "source_hash": "305734d3",
    "tags": []
   },
   "outputs": [
    {
     "data": {
      "text/plain": [
       "<matplotlib.legend.Legend at 0x1bc3e02db80>"
      ]
     },
     "execution_count": 34,
     "metadata": {},
     "output_type": "execute_result"
    },
    {
     "data": {
      "image/png": "[encoded data removed]",
      "text/plain": [
       "<Figure size 432x432 with 3 Axes>"
      ]
     },
     "metadata": {
      "needs_background": "light"
     },
     "output_type": "display_data"
    }
   ],
   "source": [
    "import scipy.stats as stats\n",
    "g=sns.jointplot(x=\"customers\", y=\"sales\", data=sales, kind=\"reg\", joint_kws={'line_kws':{'color':'#595959'}})\n",
    "r, p=stats.pearsonr(sales.customers, sales.sales)\n",
    "phantom,=g.ax_joint.plot([], [], linestyle=\"\", alpha=0)\n",
    "#g.ax_joint.set_title(\"Relação clientes x vendas\")\n",
    "g.ax_joint.set_ylabel(\"Quantidade de vendas\")\n",
    "g.ax_joint.set_xlabel(\"Quantidade de clientes\")\n",
    "g.ax_joint.legend([phantom],[\"r={:f}, p-value={:f}\".format(r, p)])"
   ]
  },
  {
   "cell_type": "markdown",
   "metadata": {},
   "source": [
    "# Qual loja passou mais dias com promoção ativa? (Múltiplos resultados)"
   ]
  },
  {
   "cell_type": "code",
   "execution_count": 35,
   "metadata": {
    "cell_id": "1b175444-962c-4564-aa8d-aabdaa4d9b21",
    "deepnote_cell_height": 616,
    "deepnote_cell_type": "code",
    "deepnote_table_loading": false,
    "deepnote_table_state": {
     "filters": [],
     "pageIndex": 0,
     "pageSize": 10,
     "sortBy": []
    },
    "deepnote_to_be_reexecuted": true,
    "execution_millis": 142,
    "execution_start": 1645442527227,
    "source_hash": "20e7da75",
    "tags": []
   },
   "outputs": [
    {
     "data": {
      "text/html": [
       "<div>\n",
       "<style scoped>\n",
       "    .dataframe tbody tr th:only-of-type {\n",
       "        vertical-align: middle;\n",
       "    }\n",
       "\n",
       "    .dataframe tbody tr th {\n",
       "        vertical-align: top;\n",
       "    }\n",
       "\n",
       "    .dataframe thead th {\n",
       "        text-align: right;\n",
       "    }\n",
       "</style>\n",
       "<table border=\"1\" class=\"dataframe\">\n",
       "  <thead>\n",
       "    <tr style=\"text-align: right;\">\n",
       "      <th></th>\n",
       "      <th>promo</th>\n",
       "    </tr>\n",
       "    <tr>\n",
       "      <th>store</th>\n",
       "      <th></th>\n",
       "    </tr>\n",
       "  </thead>\n",
       "  <tbody>\n",
       "    <tr>\n",
       "      <th>1</th>\n",
       "      <td>360</td>\n",
       "    </tr>\n",
       "    <tr>\n",
       "      <th>726</th>\n",
       "      <td>360</td>\n",
       "    </tr>\n",
       "    <tr>\n",
       "      <th>708</th>\n",
       "      <td>360</td>\n",
       "    </tr>\n",
       "    <tr>\n",
       "      <th>709</th>\n",
       "      <td>360</td>\n",
       "    </tr>\n",
       "    <tr>\n",
       "      <th>713</th>\n",
       "      <td>360</td>\n",
       "    </tr>\n",
       "    <tr>\n",
       "      <th>714</th>\n",
       "      <td>360</td>\n",
       "    </tr>\n",
       "    <tr>\n",
       "      <th>715</th>\n",
       "      <td>360</td>\n",
       "    </tr>\n",
       "    <tr>\n",
       "      <th>717</th>\n",
       "      <td>360</td>\n",
       "    </tr>\n",
       "    <tr>\n",
       "      <th>718</th>\n",
       "      <td>360</td>\n",
       "    </tr>\n",
       "    <tr>\n",
       "      <th>720</th>\n",
       "      <td>360</td>\n",
       "    </tr>\n",
       "    <tr>\n",
       "      <th>721</th>\n",
       "      <td>360</td>\n",
       "    </tr>\n",
       "    <tr>\n",
       "      <th>722</th>\n",
       "      <td>360</td>\n",
       "    </tr>\n",
       "    <tr>\n",
       "      <th>723</th>\n",
       "      <td>360</td>\n",
       "    </tr>\n",
       "    <tr>\n",
       "      <th>724</th>\n",
       "      <td>360</td>\n",
       "    </tr>\n",
       "    <tr>\n",
       "      <th>725</th>\n",
       "      <td>360</td>\n",
       "    </tr>\n",
       "  </tbody>\n",
       "</table>\n",
       "</div>"
      ],
      "text/plain": [
       "       promo\n",
       "store       \n",
       "1        360\n",
       "726      360\n",
       "708      360\n",
       "709      360\n",
       "713      360\n",
       "714      360\n",
       "715      360\n",
       "717      360\n",
       "718      360\n",
       "720      360\n",
       "721      360\n",
       "722      360\n",
       "723      360\n",
       "724      360\n",
       "725      360"
      ]
     },
     "execution_count": 35,
     "metadata": {},
     "output_type": "execute_result"
    }
   ],
   "source": [
    "sales.groupby(\"store\")[[\"promo\"]].sum().sort_values(\"promo\",ascending=False).head(15)"
   ]
  },
  {
   "cell_type": "markdown",
   "metadata": {},
   "source": [
    "# Total de vendas por ano. PS: A base foi extraída em julho de 2015, portanto a discrepância se deve a falta de 5 meses de vendas."
   ]
  },
  {
   "cell_type": "code",
   "execution_count": 38,
   "metadata": {
    "cell_id": "fe15745a-69aa-46e7-8629-a43a85b31fb3",
    "deepnote_cell_height": 757,
    "deepnote_cell_type": "code",
    "deepnote_output_heights": [
     426
    ],
    "deepnote_to_be_reexecuted": true,
    "execution_millis": 515,
    "execution_start": 1645475308023,
    "source_hash": "f5de81e2",
    "tags": []
   },
   "outputs": [
    {
     "data": {
      "image/png": "[encoded data removed]",
      "text/plain": [
       "<Figure size 360x432 with 1 Axes>"
      ]
     },
     "metadata": {},
     "output_type": "display_data"
    }
   ],
   "source": [
    "import matplotlib\n",
    "matplotlib.style.use('fivethirtyeight')\n",
    "fig, ax=plt.subplots(figsize=(5, 6))\n",
    "\n",
    "sales[\"year\"]=sales[\"date\"].apply(lambda x: x.year)\n",
    "\n",
    "df=sales.groupby('year')[['sales']].sum()\n",
    "ax.bar(df.index, df.sales)\n",
    "ax.plot(df.index, df.sales, linestyle='-', marker='o', color=\"gray\")\n",
    "ax.set_title(\"Vendas por ano\")\n",
    "ax.set_ylabel(\"Quantidade de vendas (em bilhões)\")\n",
    "ax.set_xlabel(\"Ano\")\n",
    "ax.set_xticks(np.arange(2013, 2016, step=1))\n",
    "#ax.yaxis.set_major_formatter(EngFormatter())\n",
    "ax.legend([\"Vendas\"])\n",
    "plt.show()"
   ]
  },
  {
   "cell_type": "markdown",
   "metadata": {},
   "source": [
    "# Média total de vendas mensais."
   ]
  },
  {
   "cell_type": "code",
   "execution_count": 41,
   "metadata": {
    "cell_id": "de3129d9-4bb5-479a-9d4a-efbf38f556ca",
    "deepnote_cell_height": 892,
    "deepnote_cell_type": "code",
    "deepnote_output_heights": [
     543
    ],
    "deepnote_to_be_reexecuted": true,
    "execution_millis": 1042,
    "execution_start": 1645478505500,
    "source_hash": "8e87da63",
    "tags": []
   },
   "outputs": [
    {
     "data": {
      "image/png": "[encoded data removed]",
      "text/plain": [
       "<Figure size 864x576 with 1 Axes>"
      ]
     },
     "metadata": {},
     "output_type": "display_data"
    }
   ],
   "source": [
    "sales[\"month\"]=sales[\"date\"].apply(lambda x: x.month)\n",
    "\n",
    "sales_year = sales.pivot_table(index='month', values='sales', aggfunc='mean') \n",
    "\n",
    "plt.figure(figsize=(12,8))\n",
    "\n",
    "ax = sns.lineplot(x=sales_year.index, y=sales_year['sales'])\n",
    "ax.legend(['Vendas'])\n",
    "ax.set_title('Média de vendas mensais')\n",
    "ax.set_ylabel('Média da quantidade de vendas')\n",
    "ax.set_xlabel('Mês')\n",
    "ax.legend([\"Média de vendas\"])\n",
    "ax.set_xticks(np.arange(1, 13, step=1))\n",
    "ax.set_label('');\n"
   ]
  },
  {
   "cell_type": "markdown",
   "metadata": {},
   "source": [
    "# Qual dia da semana é mais provável de ocorrer uma promoção? (Dias 6 e 7 não há registro de promoção ativa."
   ]
  },
  {
   "cell_type": "code",
   "execution_count": 42,
   "metadata": {
    "cell_id": "6f1fc769-813b-44be-adc1-99761ec75d95",
    "deepnote_cell_height": 232.125,
    "deepnote_cell_type": "code",
    "deepnote_output_heights": [
     117.125
    ],
    "deepnote_to_be_reexecuted": true,
    "execution_millis": 61,
    "execution_start": 1645225944514,
    "source_hash": "848ec87f",
    "tags": []
   },
   "outputs": [
    {
     "data": {
      "text/plain": [
       "1    77760\n",
       "2    77580\n",
       "3    77580\n",
       "4    77580\n",
       "5    77580\n",
       "Name: day_of_week, dtype: int64"
      ]
     },
     "execution_count": 42,
     "metadata": {},
     "output_type": "execute_result"
    }
   ],
   "source": [
    "sales.loc[sales['promo']==1, 'day_of_week'].value_counts()"
   ]
  },
  {
   "cell_type": "markdown",
   "metadata": {},
   "source": [
    "# Em qual feriado as vendas são maiores, natal ou páscoa?"
   ]
  },
  {
   "cell_type": "code",
   "execution_count": 43,
   "metadata": {
    "cell_id": "760da778-a652-409f-839a-2b91379f6833",
    "deepnote_cell_height": 429,
    "deepnote_cell_type": "code",
    "deepnote_table_loading": false,
    "deepnote_table_state": {
     "filters": [],
     "pageIndex": 0,
     "pageSize": 10,
     "sortBy": []
    },
    "deepnote_to_be_reexecuted": true,
    "execution_millis": 70,
    "execution_start": 1645121412646,
    "source_hash": "65e32c84",
    "tags": []
   },
   "outputs": [
    {
     "data": {
      "text/html": [
       "<div>\n",
       "<style scoped>\n",
       "    .dataframe tbody tr th:only-of-type {\n",
       "        vertical-align: middle;\n",
       "    }\n",
       "\n",
       "    .dataframe tbody tr th {\n",
       "        vertical-align: top;\n",
       "    }\n",
       "\n",
       "    .dataframe thead th {\n",
       "        text-align: right;\n",
       "    }\n",
       "</style>\n",
       "<table border=\"1\" class=\"dataframe\">\n",
       "  <thead>\n",
       "    <tr style=\"text-align: right;\">\n",
       "      <th></th>\n",
       "      <th></th>\n",
       "      <th>sales</th>\n",
       "    </tr>\n",
       "    <tr>\n",
       "      <th>state_holiday</th>\n",
       "      <th>year</th>\n",
       "      <th></th>\n",
       "    </tr>\n",
       "  </thead>\n",
       "  <tbody>\n",
       "    <tr>\n",
       "      <th rowspan=\"3\" valign=\"top\">easter_holiday</th>\n",
       "      <th>2015</th>\n",
       "      <td>515394</td>\n",
       "    </tr>\n",
       "    <tr>\n",
       "      <th>2014</th>\n",
       "      <td>463353</td>\n",
       "    </tr>\n",
       "    <tr>\n",
       "      <th>2013</th>\n",
       "      <td>454997</td>\n",
       "    </tr>\n",
       "    <tr>\n",
       "      <th rowspan=\"2\" valign=\"top\">christmas</th>\n",
       "      <th>2014</th>\n",
       "      <td>360624</td>\n",
       "    </tr>\n",
       "    <tr>\n",
       "      <th>2013</th>\n",
       "      <td>331182</td>\n",
       "    </tr>\n",
       "  </tbody>\n",
       "</table>\n",
       "</div>"
      ],
      "text/plain": [
       "                      sales\n",
       "state_holiday  year        \n",
       "easter_holiday 2015  515394\n",
       "               2014  463353\n",
       "               2013  454997\n",
       "christmas      2014  360624\n",
       "               2013  331182"
      ]
     },
     "execution_count": 43,
     "metadata": {},
     "output_type": "execute_result"
    }
   ],
   "source": [
    "mask=sales[\"state_holiday\"].isin([\"easter_holiday\", \"christmas\"])\n",
    "sales.loc[mask].groupby(['state_holiday', 'year'])[['sales']].sum().sort_values(\"sales\", ascending=False).head(5)"
   ]
  },
  {
   "cell_type": "markdown",
   "metadata": {},
   "source": [
    "# Maior número de vendas em um único mês."
   ]
  },
  {
   "cell_type": "code",
   "execution_count": 45,
   "metadata": {
    "cell_id": "58c510f7-da47-4167-a2e9-0e8c138c21b3",
    "deepnote_cell_height": 265,
    "deepnote_cell_type": "code",
    "deepnote_table_loading": false,
    "deepnote_table_state": {
     "filters": [],
     "pageIndex": 0,
     "pageSize": 10,
     "sortBy": []
    },
    "deepnote_to_be_reexecuted": true,
    "execution_millis": 686,
    "execution_start": 1645475300057,
    "source_hash": "bdafedd1",
    "tags": []
   },
   "outputs": [
    {
     "data": {
      "text/html": [
       "<div>\n",
       "<style scoped>\n",
       "    .dataframe tbody tr th:only-of-type {\n",
       "        vertical-align: middle;\n",
       "    }\n",
       "\n",
       "    .dataframe tbody tr th {\n",
       "        vertical-align: top;\n",
       "    }\n",
       "\n",
       "    .dataframe thead th {\n",
       "        text-align: right;\n",
       "    }\n",
       "</style>\n",
       "<table border=\"1\" class=\"dataframe\">\n",
       "  <thead>\n",
       "    <tr style=\"text-align: right;\">\n",
       "      <th></th>\n",
       "      <th></th>\n",
       "      <th></th>\n",
       "      <th>sales</th>\n",
       "    </tr>\n",
       "    <tr>\n",
       "      <th>year</th>\n",
       "      <th>month</th>\n",
       "      <th>store</th>\n",
       "      <th></th>\n",
       "    </tr>\n",
       "  </thead>\n",
       "  <tbody>\n",
       "    <tr>\n",
       "      <th>2015</th>\n",
       "      <th>6</th>\n",
       "      <th>909</th>\n",
       "      <td>41551</td>\n",
       "    </tr>\n",
       "  </tbody>\n",
       "</table>\n",
       "</div>"
      ],
      "text/plain": [
       "                  sales\n",
       "year month store       \n",
       "2015 6     909    41551"
      ]
     },
     "execution_count": 45,
     "metadata": {},
     "output_type": "execute_result"
    }
   ],
   "source": [
    "sales.groupby(['year', 'month','store'])[['sales']].max().sort_values('sales',ascending=False).head(1)"
   ]
  },
  {
   "cell_type": "markdown",
   "metadata": {},
   "source": [
    "# Tem mais vendas/clientes com promoção ou sem promoção?"
   ]
  },
  {
   "cell_type": "code",
   "execution_count": 46,
   "metadata": {
    "cell_id": "86cd007e-8f03-470e-83ca-12a7e28101e9",
    "deepnote_cell_height": 358.375,
    "deepnote_cell_type": "code",
    "deepnote_to_be_reexecuted": true,
    "execution_millis": 70,
    "execution_start": 1645121414471,
    "source_hash": "40eb79e2",
    "tags": []
   },
   "outputs": [
    {
     "name": "stderr",
     "output_type": "stream",
     "text": [
      "<ipython-input-46-0ce15378dad9>:1: FutureWarning: Indexing with multiple keys (implicitly converted to a tuple of keys) will be deprecated, use a list instead.\n",
      "  sales.groupby(\"promo\")[\"sales\", \"customers\"].mean()\n"
     ]
    },
    {
     "data": {
      "text/html": [
       "<div>\n",
       "<style scoped>\n",
       "    .dataframe tbody tr th:only-of-type {\n",
       "        vertical-align: middle;\n",
       "    }\n",
       "\n",
       "    .dataframe tbody tr th {\n",
       "        vertical-align: top;\n",
       "    }\n",
       "\n",
       "    .dataframe thead th {\n",
       "        text-align: right;\n",
       "    }\n",
       "</style>\n",
       "<table border=\"1\" class=\"dataframe\">\n",
       "  <thead>\n",
       "    <tr style=\"text-align: right;\">\n",
       "      <th></th>\n",
       "      <th>sales</th>\n",
       "      <th>customers</th>\n",
       "    </tr>\n",
       "    <tr>\n",
       "      <th>promo</th>\n",
       "      <th></th>\n",
       "      <th></th>\n",
       "    </tr>\n",
       "  </thead>\n",
       "  <tbody>\n",
       "    <tr>\n",
       "      <th>0</th>\n",
       "      <td>4406.050805</td>\n",
       "      <td>517.823542</td>\n",
       "    </tr>\n",
       "    <tr>\n",
       "      <th>1</th>\n",
       "      <td>7991.152046</td>\n",
       "      <td>820.098815</td>\n",
       "    </tr>\n",
       "  </tbody>\n",
       "</table>\n",
       "</div>"
      ],
      "text/plain": [
       "             sales   customers\n",
       "promo                         \n",
       "0      4406.050805  517.823542\n",
       "1      7991.152046  820.098815"
      ]
     },
     "execution_count": 46,
     "metadata": {},
     "output_type": "execute_result"
    }
   ],
   "source": [
    "sales.groupby(\"promo\")[\"sales\", \"customers\"].mean()"
   ]
  },
  {
   "cell_type": "code",
   "execution_count": null,
   "metadata": {},
   "outputs": [],
   "source": []
  }
 ],
 "metadata": {
  "deepnote": {
   "is_reactive": false
  },
  "deepnote_execution_queue": [
   {
    "cellId": "96654641-a9cd-4868-8d4b-6297e30a2765",
    "msgId": "20798956-fd44-4666-9c02-d3ac61d0052d",
    "sessionId": "6664860b-c74a-4872-822b-27aa07bee609"
   },
   {
    "cellId": "eae20786-68fe-4c98-b635-77920f4c9caf",
    "msgId": "48a098f2-49df-464a-9b6a-ce4e611a3fd0",
    "sessionId": "6664860b-c74a-4872-822b-27aa07bee609"
   },
   {
    "cellId": "df8f58e5-3226-4158-8149-73d8b2b2dab1",
    "msgId": "65895611-ceb9-46dc-9b7e-d12d46cdf8f9",
    "sessionId": "6664860b-c74a-4872-822b-27aa07bee609"
   },
   {
    "cellId": "1b175444-962c-4564-aa8d-aabdaa4d9b21",
    "msgId": "20b6733e-13d0-4ee5-8c2f-6da58dffc584",
    "sessionId": "6664860b-c74a-4872-822b-27aa07bee609"
   },
   {
    "cellId": "5a7ca789-35ad-4db9-923d-871d5001405b",
    "msgId": "fd3dbc8a-c037-4216-986f-d626834f0614",
    "sessionId": "6664860b-c74a-4872-822b-27aa07bee609"
   },
   {
    "cellId": "eb5b7107-3867-4b1f-9379-7570a044dc5b",
    "msgId": "500966f1-7a38-4bd9-86a0-dd2075a46cff",
    "sessionId": "6664860b-c74a-4872-822b-27aa07bee609"
   },
   {
    "cellId": "fe15745a-69aa-46e7-8629-a43a85b31fb3",
    "msgId": "2a6b3674-0353-489f-b89e-a6471b674b9d",
    "sessionId": "6664860b-c74a-4872-822b-27aa07bee609"
   },
   {
    "cellId": "de3129d9-4bb5-479a-9d4a-efbf38f556ca",
    "msgId": "4d4cabdd-ce3e-4e21-9233-714ad0ec1d85",
    "sessionId": "6664860b-c74a-4872-822b-27aa07bee609"
   },
   {
    "cellId": "9fd540b5-91d3-4634-83ce-c46956689a68",
    "msgId": "e627d11f-1661-4af5-b1fd-6f24bbd9c55c",
    "sessionId": "6664860b-c74a-4872-822b-27aa07bee609"
   },
   {
    "cellId": "6f1fc769-813b-44be-adc1-99761ec75d95",
    "msgId": "ca1df82b-5d8f-4644-8818-edd04ca581bc",
    "sessionId": "6664860b-c74a-4872-822b-27aa07bee609"
   },
   {
    "cellId": "4ed169c9-9554-4c48-af3e-a68b7de8ae39",
    "msgId": "c2449675-556f-4eea-9a6b-d690c3a4c8fe",
    "sessionId": "6664860b-c74a-4872-822b-27aa07bee609"
   },
   {
    "cellId": "760da778-a652-409f-839a-2b91379f6833",
    "msgId": "593438d1-f959-411e-8f43-8323ed41ab47",
    "sessionId": "6664860b-c74a-4872-822b-27aa07bee609"
   },
   {
    "cellId": "58c510f7-da47-4167-a2e9-0e8c138c21b3",
    "msgId": "445d91ad-d8ce-4f96-85dc-b5a90dbd6f47",
    "sessionId": "6664860b-c74a-4872-822b-27aa07bee609"
   },
   {
    "cellId": "2cd42fba-b0f6-4a61-b929-f929fa9dd783",
    "msgId": "532eaf39-92fd-4d43-ad42-3c6bb686b1b7",
    "sessionId": "6664860b-c74a-4872-822b-27aa07bee609"
   },
   {
    "cellId": "00abcbb5-3d6e-4c69-bba2-7a341da78339",
    "msgId": "845c2bf3-fa36-4c27-8648-259ddfcb27ad",
    "sessionId": "6664860b-c74a-4872-822b-27aa07bee609"
   },
   {
    "cellId": "f2339f72-20b5-42f4-a673-00311e014a21",
    "msgId": "0dd5dca7-a8b8-4d9e-a999-412dca56ba6d",
    "sessionId": "6664860b-c74a-4872-822b-27aa07bee609"
   },
   {
    "cellId": "05fe8d55-71cd-4a02-bc71-2f87823e658e",
    "msgId": "37e0d42d-3c89-42e9-93e6-80c6342def79",
    "sessionId": "6664860b-c74a-4872-822b-27aa07bee609"
   },
   {
    "cellId": "4ccba47a-a9e4-4484-b17c-3902876854b6",
    "msgId": "e9255925-d1f0-48b3-b85d-e5e76ece6a23",
    "sessionId": "6664860b-c74a-4872-822b-27aa07bee609"
   },
   {
    "cellId": "86cd007e-8f03-470e-83ca-12a7e28101e9",
    "msgId": "a1be20e7-7b73-407c-8cbe-1423e5bc9353",
    "sessionId": "6664860b-c74a-4872-822b-27aa07bee609"
   },
   {
    "cellId": "a2d41209-adbe-4b76-a43e-7f4d8d3c5977",
    "msgId": "5675379b-fb0e-4c9c-9c8a-f8f05efdc6c0",
    "sessionId": "6664860b-c74a-4872-822b-27aa07bee609"
   },
   {
    "cellId": "46c6ffda-3980-4b30-9190-ed4876892f8f",
    "msgId": "01187148-be26-4f34-9a8f-d67b1186364d",
    "sessionId": "6664860b-c74a-4872-822b-27aa07bee609"
   }
  ],
  "deepnote_notebook_id": "8350fc9d-95ec-4fc7-81ee-3a9919972ae5",
  "kernelspec": {
   "display_name": "Python 3",
   "language": "python",
   "name": "python3"
  },
  "language_info": {
   "codemirror_mode": {
    "name": "ipython",
    "version": 3
   },
   "file_extension": ".py",
   "mimetype": "text/x-python",
   "name": "python",
   "nbconvert_exporter": "python",
   "pygments_lexer": "ipython3",
   "version": "3.8.8"
  }
 },
 "nbformat": 4,
 "nbformat_minor": 4
}
